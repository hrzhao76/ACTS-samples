{
 "cells": [
  {
   "cell_type": "code",
   "execution_count": 1,
   "id": "b467475c-2d75-41b9-ab13-c53f2b09bbaf",
   "metadata": {},
   "outputs": [
    {
     "name": "stdout",
     "output_type": "stream",
     "text": [
      "Welcome to JupyROOT 6.24/06\n"
     ]
    }
   ],
   "source": [
    "import uproot3\n",
    "import numpy as np\n",
    "import ROOT"
   ]
  },
  {
   "cell_type": "code",
   "execution_count": 3,
   "id": "71cd3524-26e0-40f9-a887-e1c89cc77373",
   "metadata": {},
   "outputs": [],
   "source": [
    "file = uproot3.open(\"../samples/vertexperformance_AMVF_pu10_refitted_full.root\")"
   ]
  },
  {
   "cell_type": "code",
   "execution_count": 4,
   "id": "9b9716e2-39de-47ae-828c-69fba625ab5f",
   "metadata": {},
   "outputs": [
    {
     "data": {
      "text/plain": [
       "[b'Truth_Vertex_PV_Selected;6',\n",
       " b'Truth_Vertex_PV_Selected;5',\n",
       " b'Truth_Vertex_PV_Selected;4',\n",
       " b'Reco_Vertex;5',\n",
       " b'Reco_Vertex;4',\n",
       " b'Reco_Vertex;3',\n",
       " b'refitted_avg;4',\n",
       " b'refitted_avg;3',\n",
       " b'refitted_weighted_avg;6',\n",
       " b'refitted_weighted_avg;5']"
      ]
     },
     "execution_count": 4,
     "metadata": {},
     "output_type": "execute_result"
    }
   ],
   "source": [
    "file.keys()"
   ]
  },
  {
   "cell_type": "code",
   "execution_count": 5,
   "id": "95705f8e-bac2-4455-a2de-55bfd1fda119",
   "metadata": {},
   "outputs": [],
   "source": [
    "truth_tree_arrays = file[\"Truth_Vertex_PV_Selected\"].arrays(namedecode=\"utf-8\")\n",
    "reco_tree_arrays = file[\"Reco_Vertex\"].arrays(namedecode=\"utf-8\")\n",
    "reco_tree_arrays_avg = file[\"refitted_avg\"].arrays(namedecode=\"utf-8\")\n",
    "reco_tree_arrays_weighted = file[\"refitted_weighted_avg\"].arrays(namedecode=\"utf-8\")"
   ]
  },
  {
   "cell_type": "code",
   "execution_count": 13,
   "id": "eb24831b-83a7-4adf-8109-d47fa3ec7624",
   "metadata": {},
   "outputs": [],
   "source": [
    "def Get_ind_best_reco_HS_sum_pt2(reco_tree_arrays, i_event, reco_type):\n",
    "    # Return the index of the best reconstructed HS via sum of pt^2 method \n",
    "    trk_pt_sq = ((1./reco_tree_arrays[\"reco_vtx_fitted_trk_qp\"][i_event])*np.sin(reco_tree_arrays[\"reco_vtx_fitted_trk_theta\"][i_event]) )**2\n",
    "    if reco_type==\"avg\":\n",
    "        n_vtx = len(reco_tree_arrays[\"refitted_avg_vtx_vz\"][i_event])\n",
    "    elif reco_type==\"weighted\":\n",
    "        n_vtx = len(reco_tree_arrays[\"refitted_weighted_vtx_vz\"][i_event])\n",
    "    else:\n",
    "        n_vtx = len(reco_tree_arrays[\"reco_vtx_vz\"][i_event])\n",
    "            \n",
    "    vtx_trk_pt_sq_sum = np.zeros(n_vtx)\n",
    "    for i in range(n_vtx):\n",
    "        vtx_trk_pt_sq_sum[i] = trk_pt_sq[reco_tree_arrays[\"reco_vtx_fitted_trk_vtxID\"][i_event] == i].sum()\n",
    "    \n",
    "#     print(vtx_trk_pt_sqrt_sum)\n",
    "    \n",
    "    return vtx_trk_pt_sq_sum.argmax()"
   ]
  },
  {
   "cell_type": "code",
   "execution_count": 7,
   "id": "ab2edde9-762d-4e2b-a213-cb7941e0eab4",
   "metadata": {},
   "outputs": [],
   "source": [
    "def Get_local_PU_density(truth_tree_arrays, i_event, xyz_dist_window = 2.0):\n",
    "    # Calculate the PU density around the truth HS vertex \n",
    "    truth_vtx_vx = truth_tree_arrays[\"truth_vtx_vx\"][i_event]\n",
    "    truth_vtx_vy = truth_tree_arrays[\"truth_vtx_vy\"][i_event]\n",
    "    truth_vtx_vz = truth_tree_arrays[\"truth_vtx_vz\"][i_event]\n",
    "    \n",
    "    dist_to_truth_HS = (truth_vtx_vx - truth_vtx_vx[0])**2 +(truth_vtx_vy - truth_vtx_vy[0])**2 + (truth_vtx_vz - truth_vtx_vz[0])**2 \n",
    "    n_local_truth = len(np.where(dist_to_truth_HS< 2.0**2)[0])\n",
    "    return (n_local_truth - 1)/(2 * xyz_dist_window)\n",
    "#     return local_PU_density "
   ]
  },
  {
   "cell_type": "code",
   "execution_count": 25,
   "id": "7e3af033-5c50-4793-91b7-bd6a5ce11b50",
   "metadata": {},
   "outputs": [
    {
     "data": {
      "text/plain": [
       "1"
      ]
     },
     "execution_count": 25,
     "metadata": {},
     "output_type": "execute_result"
    }
   ],
   "source": [
    "Get_ind_best_reco_HS_sum_pt2(reco_tree_arrays_weighted, 30, \"weighted\")"
   ]
  },
  {
   "cell_type": "code",
   "execution_count": 11,
   "id": "28554a40-07d1-4cdc-98d7-6e312658b850",
   "metadata": {},
   "outputs": [
    {
     "data": {
      "text/plain": [
       "dict_keys(['event_id', 'refitted_avg_vtx_vx', 'refitted_avg_vtx_vy', 'refitted_avg_vtx_vz', 'refitted_avg_vtx_fitquality_chiSquared', 'refitted_avg_vtx_fitquality_nDoF', 'refitted_avg_vtx_err_vx_vx', 'refitted_avg_vtx_err_vx_vy', 'refitted_avg_vtx_err_vx_vz', 'refitted_avg_vtx_err_vy_vy', 'refitted_avg_vtx_err_vy_vz', 'refitted_avg_vtx_err_vz_vz', 'reco_vtx_fitted_trk_d0', 'reco_vtx_fitted_trk_z0', 'reco_vtx_fitted_trk_phi', 'reco_vtx_fitted_trk_theta', 'reco_vtx_fitted_trk_qp', 'reco_vtx_fitted_trk_time', 'reco_vtx_fitted_trk_err_d0', 'reco_vtx_fitted_trk_err_z0', 'reco_vtx_fitted_trk_err_phi', 'reco_vtx_fitted_trk_err_theta', 'reco_vtx_fitted_trk_err_qp', 'reco_vtx_fitted_trk_err_time', 'reco_vtx_fitted_trk_chi2Track', 'reco_vtx_fitted_trk_ndf', 'reco_vtx_fitted_trk_vertexCompatibility', 'reco_vtx_fitted_trk_trackWeight', 'reco_vtx_fitted_trk_vtxID'])"
      ]
     },
     "execution_count": 11,
     "metadata": {},
     "output_type": "execute_result"
    }
   ],
   "source": [
    "reco_tree_arrays_avg.keys()"
   ]
  },
  {
   "cell_type": "code",
   "execution_count": 12,
   "id": "c5974ef9-1f68-477a-b711-6bc2cc20fdb2",
   "metadata": {},
   "outputs": [
    {
     "data": {
      "text/plain": [
       "dict"
      ]
     },
     "execution_count": 12,
     "metadata": {},
     "output_type": "execute_result"
    }
   ],
   "source": [
    "type(reco_tree_arrays_avg)"
   ]
  },
  {
   "cell_type": "code",
   "execution_count": 27,
   "id": "55d065ab-7155-49a6-bbab-4704c9e82916",
   "metadata": {},
   "outputs": [],
   "source": [
    "canvas = ROOT.TCanvas()\n",
    "hs_reco_eff = ROOT.TEfficiency(\"hs_reco_eff\", \"HS Reconstruction Efficiency; Local PU density; eff\", 12, 0, 6)\n",
    "hs_sel_eff = ROOT.TEfficiency(\"hs_sel_eff\", \"HS selection and Reconstruction Efficiency; Local PU density; eff\", 12, 0, 6)\n",
    "\n",
    "\n",
    "whole_match_matrix = []\n",
    "# In the future, whole_match_matrix will be used to classify \n",
    "\n",
    "for i_event in range(len(reco_tree_arrays[\"event_id\"])):\n",
    "# for i_event in range(100):\n",
    "\n",
    "    truth_vtx_vz = truth_tree_arrays[\"truth_vtx_vz\"][i_event]\n",
    "    reco_vtx_vz = reco_tree_arrays[\"reco_vtx_vz\"][i_event]\n",
    "    match_matrix = np.zeros((len(reco_vtx_vz),len(truth_vtx_vz)))\n",
    "    # declare the truth-mathing matrix as a list, filled in the next 2 loops \n",
    "    # Can be normalized \n",
    "\n",
    "    for i in range(len(reco_vtx_vz)):\n",
    "        for j in range(len(truth_vtx_vz)):\n",
    "            test_truth = truth_tree_arrays[\"truth_vtx_fitted_trk_z0\"][i_event][truth_tree_arrays[\"truth_vtx_fitted_trk_vtxID\"][i_event] == j]\n",
    "            test_reco = reco_tree_arrays[\"reco_vtx_fitted_trk_z0\"][i_event][reco_tree_arrays[\"reco_vtx_fitted_trk_vtxID\"][i_event] == i]\n",
    "            match_matrix[i,j] = len(np.intersect1d(test_reco, test_truth))\n",
    "            \n",
    "    whole_match_matrix.append(match_matrix)\n",
    "    \n",
    "    \n",
    "    # Find the index of best reco HS via 2 ways \n",
    "    ind_best_reco_HS_nTrk = match_matrix[:,0].argmax()\n",
    "    ind_best_reco_HS_sumpt2 = Get_ind_best_reco_HS_sum_pt2(reco_tree_arrays, i_event, \"reco\")\n",
    "    \n",
    "    dist_best_reco_to_truth_HS_sq = (reco_tree_arrays[\"reco_vtx_vx\"][i_event][ind_best_reco_HS_nTrk] - truth_tree_arrays[\"truth_vtx_vx\"][i_event][0])**2 + (reco_tree_arrays[\"reco_vtx_vy\"][i_event][ind_best_reco_HS_nTrk] - truth_tree_arrays[\"truth_vtx_vy\"][i_event][0])**2 + (reco_tree_arrays[\"reco_vtx_vz\"][i_event][ind_best_reco_HS_nTrk] - truth_tree_arrays[\"truth_vtx_vz\"][i_event][0])**2 \n",
    "    trhth_HS_vtx_recoed = False\n",
    "    if dist_best_reco_to_truth_HS_sq < (0.1 ** 2):\n",
    "        trhth_HS_vtx_recoed = True\n",
    "\n",
    "    trhth_HS_vtx_seled = (bool)(ind_best_reco_HS_nTrk == ind_best_reco_HS_sumpt2)\n",
    "\n",
    "    \n",
    "    local_PU_density = Get_local_PU_density(truth_tree_arrays, i_event)\n",
    "    hs_reco_eff.Fill(trhth_HS_vtx_recoed, local_PU_density)\n",
    "    hs_sel_eff.Fill(trhth_HS_vtx_recoed and trhth_HS_vtx_seled, local_PU_density)"
   ]
  },
  {
   "cell_type": "code",
   "execution_count": 28,
   "id": "ee46c973-a094-4797-b9ab-7aed0d8c083d",
   "metadata": {},
   "outputs": [
    {
     "data": {
      "image/png": "[encoded data removed]",
      "text/plain": [
       "<IPython.core.display.Image object>"
      ]
     },
     "metadata": {},
     "output_type": "display_data"
    }
   ],
   "source": [
    "hs_reco_eff.Draw()\n",
    "canvas.Draw()"
   ]
  },
  {
   "cell_type": "code",
   "execution_count": 29,
   "id": "59f43b09-ddfb-4da0-8b73-8382fa6fa50c",
   "metadata": {},
   "outputs": [
    {
     "data": {
      "image/png": "[encoded data removed]",
      "text/plain": [
       "<IPython.core.display.Image object>"
      ]
     },
     "metadata": {},
     "output_type": "display_data"
    }
   ],
   "source": [
    "hs_sel_eff.Draw()\n",
    "canvas.Draw()"
   ]
  },
  {
   "cell_type": "code",
   "execution_count": null,
   "id": "f33d00ab-bd06-48b0-888b-451aa2b8254b",
   "metadata": {},
   "outputs": [],
   "source": []
  },
  {
   "cell_type": "code",
   "execution_count": 31,
   "id": "475dfd1f-bc53-4b14-8b1b-7b4cc83454f1",
   "metadata": {},
   "outputs": [],
   "source": [
    "canvas_avg = ROOT.TCanvas()\n",
    "hs_reco_eff_avg = ROOT.TEfficiency(\"hs_reco_eff\", \"HS Reconstruction Efficiency(avg); Local PU density; eff\", 12, 0, 6)\n",
    "hs_sel_eff_avg = ROOT.TEfficiency(\"hs_sel_eff\", \"HS selection and Reconstruction Efficiency(avg); Local PU density; eff\", 12, 0, 6)\n",
    "\n",
    "\n",
    "whole_match_matrix_avg = []\n",
    "# In the future, whole_match_matrix will be used to classify \n",
    "\n",
    "for i_event in range(len(reco_tree_arrays_avg[\"event_id\"])):\n",
    "# for i_event in range(100):\n",
    "\n",
    "    truth_vtx_vz = truth_tree_arrays[\"truth_vtx_vz\"][i_event]\n",
    "    reco_vtx_vz = reco_tree_arrays_avg[\"refitted_avg_vtx_vz\"][i_event]\n",
    "    match_matrix = np.zeros((len(reco_vtx_vz),len(truth_vtx_vz)))\n",
    "    # declare the truth-mathing matrix as a list, filled in the next 2 loops \n",
    "    # Can be normalized \n",
    "\n",
    "    for i in range(len(reco_vtx_vz)):\n",
    "        for j in range(len(truth_vtx_vz)):\n",
    "            test_truth = truth_tree_arrays[\"truth_vtx_fitted_trk_z0\"][i_event][truth_tree_arrays[\"truth_vtx_fitted_trk_vtxID\"][i_event] == j]\n",
    "            test_reco = reco_tree_arrays_avg[\"reco_vtx_fitted_trk_z0\"][i_event][reco_tree_arrays_avg[\"reco_vtx_fitted_trk_vtxID\"][i_event] == i]\n",
    "            match_matrix[i,j] = len(np.intersect1d(test_reco, test_truth))\n",
    "            \n",
    "    whole_match_matrix.append(match_matrix)\n",
    "    \n",
    "    \n",
    "    # Find the index of best reco HS via 2 ways \n",
    "    ind_best_reco_HS_nTrk = match_matrix[:,0].argmax()\n",
    "    ind_best_reco_HS_sumpt2 = Get_ind_best_reco_HS_sum_pt2(reco_tree_arrays_avg, i_event, \"avg\")\n",
    "    \n",
    "    dist_best_reco_to_truth_HS_sq = (reco_tree_arrays_avg[\"refitted_avg_vtx_vx\"][i_event][ind_best_reco_HS_nTrk] - truth_tree_arrays[\"truth_vtx_vx\"][i_event][0])**2 + (reco_tree_arrays_avg[\"refitted_avg_vtx_vy\"][i_event][ind_best_reco_HS_nTrk] - truth_tree_arrays[\"truth_vtx_vy\"][i_event][0])**2 + (reco_tree_arrays_avg[\"refitted_avg_vtx_vz\"][i_event][ind_best_reco_HS_nTrk] - truth_tree_arrays[\"truth_vtx_vz\"][i_event][0])**2 \n",
    "    trhth_HS_vtx_recoed = False\n",
    "    if dist_best_reco_to_truth_HS_sq < (0.1 ** 2):\n",
    "        trhth_HS_vtx_recoed = True\n",
    "\n",
    "    trhth_HS_vtx_seled = (bool)(ind_best_reco_HS_nTrk == ind_best_reco_HS_sumpt2)\n",
    "\n",
    "    \n",
    "    local_PU_density = Get_local_PU_density(truth_tree_arrays, i_event)\n",
    "    hs_reco_eff_avg.Fill(trhth_HS_vtx_recoed, local_PU_density)\n",
    "    hs_sel_eff_avg.Fill(trhth_HS_vtx_recoed and trhth_HS_vtx_seled, local_PU_density)"
   ]
  },
  {
   "cell_type": "code",
   "execution_count": 32,
   "id": "32ada240-a8d7-4135-a34d-1c1b32667e2e",
   "metadata": {},
   "outputs": [
    {
     "data": {
      "image/png": "[encoded data removed]",
      "text/plain": [
       "<IPython.core.display.Image object>"
      ]
     },
     "metadata": {},
     "output_type": "display_data"
    }
   ],
   "source": [
    "hs_reco_eff_avg.Draw()\n",
    "canvas_avg.Draw()"
   ]
  },
  {
   "cell_type": "code",
   "execution_count": 33,
   "id": "27e92719-bda2-46cc-b8ac-bf4db5435bf5",
   "metadata": {},
   "outputs": [
    {
     "data": {
      "image/png": "[encoded data removed]",
      "text/plain": [
       "<IPython.core.display.Image object>"
      ]
     },
     "metadata": {},
     "output_type": "display_data"
    }
   ],
   "source": [
    "hs_sel_eff_avg.Draw()\n",
    "canvas_avg.Draw()"
   ]
  },
  {
   "cell_type": "code",
   "execution_count": 36,
   "id": "6ed6e0fb-f2f7-4d36-9d77-e58bab1a9ff6",
   "metadata": {},
   "outputs": [
    {
     "ename": "IndexError",
     "evalue": "index 10000 is out of bounds for axis 0 with size 10000",
     "output_type": "error",
     "traceback": [
      "\u001b[0;31m---------------------------------------------------------------------------\u001b[0m",
      "\u001b[0;31mIndexError\u001b[0m                                Traceback (most recent call last)",
      "\u001b[0;32m/tmp/ipykernel_92565/843461507.py\u001b[0m in \u001b[0;36m<module>\u001b[0;34m\u001b[0m\n\u001b[1;32m     10\u001b[0m \u001b[0;31m# for i_event in range(100):\u001b[0m\u001b[0;34m\u001b[0m\u001b[0;34m\u001b[0m\u001b[0m\n\u001b[1;32m     11\u001b[0m \u001b[0;34m\u001b[0m\u001b[0m\n\u001b[0;32m---> 12\u001b[0;31m     \u001b[0mtruth_vtx_vz\u001b[0m \u001b[0;34m=\u001b[0m \u001b[0mtruth_tree_arrays\u001b[0m\u001b[0;34m[\u001b[0m\u001b[0;34m\"truth_vtx_vz\"\u001b[0m\u001b[0;34m]\u001b[0m\u001b[0;34m[\u001b[0m\u001b[0mi_event\u001b[0m\u001b[0;34m]\u001b[0m\u001b[0;34m\u001b[0m\u001b[0;34m\u001b[0m\u001b[0m\n\u001b[0m\u001b[1;32m     13\u001b[0m     \u001b[0mreco_vtx_vz\u001b[0m \u001b[0;34m=\u001b[0m \u001b[0mreco_tree_arrays_weighted\u001b[0m\u001b[0;34m[\u001b[0m\u001b[0;34m\"refitted_weighted_vtx_vz\"\u001b[0m\u001b[0;34m]\u001b[0m\u001b[0;34m[\u001b[0m\u001b[0mi_event\u001b[0m\u001b[0;34m]\u001b[0m\u001b[0;34m\u001b[0m\u001b[0;34m\u001b[0m\u001b[0m\n\u001b[1;32m     14\u001b[0m     \u001b[0mmatch_matrix\u001b[0m \u001b[0;34m=\u001b[0m \u001b[0mnp\u001b[0m\u001b[0;34m.\u001b[0m\u001b[0mzeros\u001b[0m\u001b[0;34m(\u001b[0m\u001b[0;34m(\u001b[0m\u001b[0mlen\u001b[0m\u001b[0;34m(\u001b[0m\u001b[0mreco_vtx_vz\u001b[0m\u001b[0;34m)\u001b[0m\u001b[0;34m,\u001b[0m\u001b[0mlen\u001b[0m\u001b[0;34m(\u001b[0m\u001b[0mtruth_vtx_vz\u001b[0m\u001b[0;34m)\u001b[0m\u001b[0;34m)\u001b[0m\u001b[0;34m)\u001b[0m\u001b[0;34m\u001b[0m\u001b[0;34m\u001b[0m\u001b[0m\n",
      "\u001b[0;32m~/.local/lib/python3.10/site-packages/awkward0/array/jagged.py\u001b[0m in \u001b[0;36m__getitem__\u001b[0;34m(self, where)\u001b[0m\n\u001b[1;32m    598\u001b[0m \u001b[0;34m\u001b[0m\u001b[0m\n\u001b[1;32m    599\u001b[0m         \u001b[0;32melse\u001b[0m\u001b[0;34m:\u001b[0m\u001b[0;34m\u001b[0m\u001b[0;34m\u001b[0m\u001b[0m\n\u001b[0;32m--> 600\u001b[0;31m             \u001b[0mstarts\u001b[0m \u001b[0;34m=\u001b[0m \u001b[0mself\u001b[0m\u001b[0;34m.\u001b[0m\u001b[0m_starts\u001b[0m\u001b[0;34m[\u001b[0m\u001b[0mhead\u001b[0m\u001b[0;34m]\u001b[0m\u001b[0;34m\u001b[0m\u001b[0;34m\u001b[0m\u001b[0m\n\u001b[0m\u001b[1;32m    601\u001b[0m             \u001b[0mstops\u001b[0m \u001b[0;34m=\u001b[0m \u001b[0mself\u001b[0m\u001b[0;34m.\u001b[0m\u001b[0m_stops\u001b[0m\u001b[0;34m[\u001b[0m\u001b[0mhead\u001b[0m\u001b[0;34m]\u001b[0m\u001b[0;34m\u001b[0m\u001b[0;34m\u001b[0m\u001b[0m\n\u001b[1;32m    602\u001b[0m             \u001b[0;32mif\u001b[0m \u001b[0mlen\u001b[0m\u001b[0;34m(\u001b[0m\u001b[0mstarts\u001b[0m\u001b[0;34m.\u001b[0m\u001b[0mshape\u001b[0m\u001b[0;34m)\u001b[0m \u001b[0;34m==\u001b[0m \u001b[0mlen\u001b[0m\u001b[0;34m(\u001b[0m\u001b[0mstops\u001b[0m\u001b[0;34m.\u001b[0m\u001b[0mshape\u001b[0m\u001b[0;34m)\u001b[0m \u001b[0;34m==\u001b[0m \u001b[0;36m0\u001b[0m\u001b[0;34m:\u001b[0m\u001b[0;34m\u001b[0m\u001b[0;34m\u001b[0m\u001b[0m\n",
      "\u001b[0;31mIndexError\u001b[0m: index 10000 is out of bounds for axis 0 with size 10000"
     ]
    }
   ],
   "source": [
    "canvas_weighted = ROOT.TCanvas()\n",
    "hs_reco_eff_weighted = ROOT.TEfficiency(\"hs_reco_eff\", \"HS Reconstruction Efficiency(avg); Local PU density; eff\", 12, 0, 6)\n",
    "hs_sel_eff_weighted = ROOT.TEfficiency(\"hs_sel_eff\", \"HS selection and Reconstruction Efficiency(avg); Local PU density; eff\", 12, 0, 6)\n",
    "\n",
    "\n",
    "whole_match_matrix_weighted = []\n",
    "# In the future, whole_match_matrix will be used to classify \n",
    "\n",
    "for i_event in range(len(reco_tree_arrays_weighted[\"event_id\"])):\n",
    "# for i_event in range(100):\n",
    "\n",
    "    truth_vtx_vz = truth_tree_arrays[\"truth_vtx_vz\"][i_event]\n",
    "    reco_vtx_vz = reco_tree_arrays_weighted[\"refitted_weighted_vtx_vz\"][i_event]\n",
    "    match_matrix = np.zeros((len(reco_vtx_vz),len(truth_vtx_vz)))\n",
    "    # declare the truth-mathing matrix as a list, filled in the next 2 loops \n",
    "    # Can be normalized \n",
    "\n",
    "    for i in range(len(reco_vtx_vz)):\n",
    "        for j in range(len(truth_vtx_vz)):\n",
    "            test_truth = truth_tree_arrays[\"truth_vtx_fitted_trk_z0\"][i_event][truth_tree_arrays[\"truth_vtx_fitted_trk_vtxID\"][i_event] == j]\n",
    "            test_reco = reco_tree_arrays_weighted[\"reco_vtx_fitted_trk_z0\"][i_event][reco_tree_arrays_weighted[\"reco_vtx_fitted_trk_vtxID\"][i_event] == i]\n",
    "            match_matrix[i,j] = len(np.intersect1d(test_reco, test_truth))\n",
    "            \n",
    "    whole_match_matrix.append(match_matrix)\n",
    "    \n",
    "    \n",
    "    # Find the index of best reco HS via 2 ways \n",
    "    ind_best_reco_HS_nTrk = match_matrix[:,0].argmax()\n",
    "    ind_best_reco_HS_sumpt2 = Get_ind_best_reco_HS_sum_pt2(reco_tree_arrays_weighted, i_event, \"weighted\")\n",
    "    \n",
    "    dist_best_reco_to_truth_HS_sq = (reco_tree_arrays_weighted[\"refitted_weighted_vtx_vx\"][i_event][ind_best_reco_HS_nTrk] - truth_tree_arrays[\"truth_vtx_vx\"][i_event][0])**2 + (reco_tree_arrays_weighted[\"refitted_weighted_vtx_vy\"][i_event][ind_best_reco_HS_nTrk] - truth_tree_arrays[\"truth_vtx_vy\"][i_event][0])**2 + (reco_tree_arrays_weighted[\"refitted_weighted_vtx_vz\"][i_event][ind_best_reco_HS_nTrk] - truth_tree_arrays[\"truth_vtx_vz\"][i_event][0])**2 \n",
    "    trhth_HS_vtx_recoed = False\n",
    "    if dist_best_reco_to_truth_HS_sq < (0.1 ** 2):\n",
    "        trhth_HS_vtx_recoed = True\n",
    "\n",
    "    trhth_HS_vtx_seled = (bool)(ind_best_reco_HS_nTrk == ind_best_reco_HS_sumpt2)\n",
    "\n",
    "    \n",
    "    local_PU_density = Get_local_PU_density(truth_tree_arrays, i_event)\n",
    "    hs_reco_eff_weighted.Fill(trhth_HS_vtx_recoed, local_PU_density)\n",
    "    hs_sel_eff_weighted.Fill(trhth_HS_vtx_recoed and trhth_HS_vtx_seled, local_PU_density)"
   ]
  },
  {
   "cell_type": "code",
   "execution_count": 37,
   "id": "051bb2d1-9ca5-4d50-9abc-21c77b361cdb",
   "metadata": {},
   "outputs": [
    {
     "data": {
      "text/plain": [
       "71147"
      ]
     },
     "execution_count": 37,
     "metadata": {},
     "output_type": "execute_result"
    }
   ],
   "source": [
    "len(reco_tree_arrays_weighted[\"event_id\"])"
   ]
  },
  {
   "cell_type": "code",
   "execution_count": null,
   "id": "f42be60b-9d73-4fa7-945c-48712592336b",
   "metadata": {},
   "outputs": [],
   "source": []
  }
 ],
 "metadata": {
  "kernelspec": {
   "display_name": "Python 3 (ipykernel)",
   "language": "python",
   "name": "python3"
  },
  "language_info": {
   "codemirror_mode": {
    "name": "ipython",
    "version": 3
   },
   "file_extension": ".py",
   "mimetype": "text/x-python",
   "name": "python",
   "nbconvert_exporter": "python",
   "pygments_lexer": "ipython3",
   "version": "3.10.2"
  }
 },
 "nbformat": 4,
 "nbformat_minor": 5
}
