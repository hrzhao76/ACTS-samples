{
 "cells": [
  {
   "cell_type": "code",
   "execution_count": 1,
   "id": "b467475c-2d75-41b9-ab13-c53f2b09bbaf",
   "metadata": {},
   "outputs": [
    {
     "name": "stdout",
     "output_type": "stream",
     "text": [
      "Welcome to JupyROOT 6.24/06\n"
     ]
    }
   ],
   "source": [
    "import uproot3\n",
    "import numpy as np\n",
    "import ROOT"
   ]
  },
  {
   "cell_type": "code",
   "execution_count": 2,
   "id": "71cd3524-26e0-40f9-a887-e1c89cc77373",
   "metadata": {},
   "outputs": [],
   "source": [
    "# file = uproot3.open(\"../samples/vertexperformance_AMVF_pu10_refitted_full.root\")\n",
    "# file = uproot3.open(\"/Users/dejavu/Projects/Vertexing/ACTS/vertex_fitter/Test_fitter/vertexperformance_AMVF_pu100_refitted.root\")\n",
    "file = uproot3.open(\"../samples/vertexperformance_AMVF_pu100_refitted.root\")\n"
   ]
  },
  {
   "cell_type": "code",
   "execution_count": null,
   "id": "9b9716e2-39de-47ae-828c-69fba625ab5f",
   "metadata": {},
   "outputs": [],
   "source": [
    "file.keys()"
   ]
  },
  {
   "cell_type": "code",
   "execution_count": 3,
   "id": "95705f8e-bac2-4455-a2de-55bfd1fda119",
   "metadata": {},
   "outputs": [],
   "source": [
    "outfile = ROOT.TFile(\"reso.root\", \"recreate\")\n",
    "\n",
    "truth_tree_arrays = file[\"Truth_Vertex_PV_Selected\"].arrays(namedecode=\"utf-8\")\n",
    "reco_tree_arrays = file[\"Reco_Vertex\"].arrays(namedecode=\"utf-8\")\n",
    "reco_tree_arrays_avg = file[\"refitted_avg\"].arrays(namedecode=\"utf-8\")\n",
    "reco_tree_arrays_weighted = file[\"refitted_weighted_avg\"].arrays(namedecode=\"utf-8\")"
   ]
  },
  {
   "cell_type": "code",
   "execution_count": 4,
   "id": "eb24831b-83a7-4adf-8109-d47fa3ec7624",
   "metadata": {},
   "outputs": [],
   "source": [
    "def Get_ind_best_reco_HS_sum_pt2(reco_tree_arrays, i_event, reco_type):\n",
    "    # Return the index of the best reconstructed HS via sum of pt^2 method \n",
    "    trk_pt_sq = ((1./reco_tree_arrays[\"reco_vtx_fitted_trk_qp\"][i_event])*np.sin(reco_tree_arrays[\"reco_vtx_fitted_trk_theta\"][i_event]) )**2\n",
    "    if reco_type==\"avg\":\n",
    "        n_vtx = len(reco_tree_arrays[\"refitted_avg_vtx_vz\"][i_event])\n",
    "    elif reco_type==\"weighted\":\n",
    "        n_vtx = len(reco_tree_arrays[\"refitted_weighted_vtx_vz\"][i_event])\n",
    "    else:\n",
    "        n_vtx = len(reco_tree_arrays[\"reco_vtx_vz\"][i_event])\n",
    "            \n",
    "    vtx_trk_pt_sq_sum = np.zeros(n_vtx)\n",
    "    for i in range(n_vtx):\n",
    "        vtx_trk_pt_sq_sum[i] = trk_pt_sq[reco_tree_arrays[\"reco_vtx_fitted_trk_vtxID\"][i_event] == i].sum()\n",
    "    \n",
    "#     print(vtx_trk_pt_sqrt_sum)\n",
    "    \n",
    "    return vtx_trk_pt_sq_sum.argmax()"
   ]
  },
  {
   "cell_type": "code",
   "execution_count": 5,
   "id": "ab2edde9-762d-4e2b-a213-cb7941e0eab4",
   "metadata": {},
   "outputs": [],
   "source": [
    "def Get_local_PU_density(truth_tree_arrays, i_event, xyz_dist_window = 2.0):\n",
    "    # Calculate the PU density around the truth HS vertex \n",
    "    truth_vtx_vx = truth_tree_arrays[\"truth_vtx_vx\"][i_event]\n",
    "    truth_vtx_vy = truth_tree_arrays[\"truth_vtx_vy\"][i_event]\n",
    "    truth_vtx_vz = truth_tree_arrays[\"truth_vtx_vz\"][i_event]\n",
    "    \n",
    "    dist_to_truth_HS = (truth_vtx_vx - truth_vtx_vx[0])**2 +(truth_vtx_vy - truth_vtx_vy[0])**2 + (truth_vtx_vz - truth_vtx_vz[0])**2 \n",
    "    n_local_truth = len(np.where(dist_to_truth_HS< 2.0**2)[0])\n",
    "    return (n_local_truth - 1)/(2 * xyz_dist_window)\n",
    "#     return local_PU_density "
   ]
  },
  {
   "cell_type": "code",
   "execution_count": 6,
   "id": "55d065ab-7155-49a6-bbab-4704c9e82916",
   "metadata": {},
   "outputs": [
    {
     "name": "stdout",
     "output_type": "stream",
     "text": [
      "0 events processed.\n",
      "100 events processed.\n",
      "200 events processed.\n",
      "300 events processed.\n",
      "400 events processed.\n",
      "500 events processed.\n",
      "600 events processed.\n",
      "700 events processed.\n",
      "800 events processed.\n",
      "900 events processed.\n"
     ]
    }
   ],
   "source": [
    "canvas = ROOT.TCanvas()\n",
    "hs_reco_eff = ROOT.TEfficiency(\"hs_reco_eff\", \"HS Reconstruction Efficiency; Local PU density; eff\", 12, 0, 6)\n",
    "hs_sel_eff = ROOT.TEfficiency(\"hs_sel_eff\", \"HS selection and Reconstruction Efficiency; Local PU density; eff\", 12, 0, 6)\n",
    "\n",
    "hs_truth_long_reso_vs_PU = ROOT.TH2D(\"hs_truth_long_reso_vs_PU\", \"HS Longitudinal Resolution vs PU density; Local PU density; [mm]\", 12, 0, 6.0, 20, -0.08, 0.08);\n",
    "\n",
    "# hs_truth_trans_reso_vs_PU = ROOT.TH2D();\n",
    "# hs_trans_reso = ROOT.TH1D();\n",
    "# hs_trans_bias = ROOT.TH1D();\n",
    "\n",
    "whole_match_matrix = []\n",
    "# In the future, whole_match_matrix will be used to classify \n",
    "N_evts=1000\n",
    "# for i_event in range(len(reco_tree_arrays[\"event_id\"])):\n",
    "for i_event in range(N_evts):\n",
    "\n",
    "    if i_event % 100 == 0:\n",
    "        print(f\"{i_event} events processed.\")\n",
    "    \n",
    "    truth_vtx_vz = truth_tree_arrays[\"truth_vtx_vz\"][i_event]\n",
    "    reco_vtx_vz = reco_tree_arrays[\"reco_vtx_vz\"][i_event]\n",
    "    match_matrix = np.zeros((len(reco_vtx_vz),len(truth_vtx_vz)))\n",
    "    # declare the truth-mathing matrix as a list, filled in the next 2 loops \n",
    "    # Can be normalized \n",
    "\n",
    "    for i in range(len(reco_vtx_vz)):\n",
    "        for j in range(len(truth_vtx_vz)):\n",
    "            test_truth = truth_tree_arrays[\"truth_vtx_fitted_trk_z0\"][i_event][truth_tree_arrays[\"truth_vtx_fitted_trk_vtxID\"][i_event] == j]\n",
    "            test_reco = reco_tree_arrays[\"reco_vtx_fitted_trk_z0\"][i_event][reco_tree_arrays[\"reco_vtx_fitted_trk_vtxID\"][i_event] == i]\n",
    "            match_matrix[i,j] = len(np.intersect1d(test_reco, test_truth))\n",
    "            \n",
    "    whole_match_matrix.append(match_matrix)\n",
    "    \n",
    "    \n",
    "    # Find the index of best reco HS via 2 ways \n",
    "    ind_best_reco_HS_nTrk = match_matrix[:,0].argmax()\n",
    "    ind_best_reco_HS_sumpt2 = Get_ind_best_reco_HS_sum_pt2(reco_tree_arrays, i_event, \"reco\")\n",
    "    \n",
    "    # dist_best_reco_to_truth_HS_sq = (reco_tree_arrays[\"reco_vtx_vx\"][i_event][ind_best_reco_HS_nTrk] - truth_tree_arrays[\"truth_vtx_vx\"][i_event][0])**2 + (reco_tree_arrays[\"reco_vtx_vy\"][i_event][ind_best_reco_HS_nTrk] - truth_tree_arrays[\"truth_vtx_vy\"][i_event][0])**2 + (reco_tree_arrays[\"reco_vtx_vz\"][i_event][ind_best_reco_HS_nTrk] - truth_tree_arrays[\"truth_vtx_vz\"][i_event][0])**2 \n",
    "    residual_z = reco_tree_arrays[\"reco_vtx_vz\"][i_event][ind_best_reco_HS_nTrk] - truth_tree_arrays[\"truth_vtx_vz\"][i_event][0]\n",
    "    residual_x = reco_tree_arrays[\"reco_vtx_vx\"][i_event][ind_best_reco_HS_nTrk] - truth_tree_arrays[\"truth_vtx_vx\"][i_event][0]\n",
    "    residual_y = reco_tree_arrays[\"reco_vtx_vy\"][i_event][ind_best_reco_HS_nTrk] - truth_tree_arrays[\"truth_vtx_vy\"][i_event][0]\n",
    "    \n",
    "    dist_best_reco_to_truth_HS_sq =  residual_z**2 + residual_x**2 + residual_y**2\n",
    "    trhth_HS_vtx_recoed = False\n",
    "    if dist_best_reco_to_truth_HS_sq < (0.1 ** 2):\n",
    "        trhth_HS_vtx_recoed = True\n",
    "\n",
    "    trhth_HS_vtx_seled = (bool)(ind_best_reco_HS_nTrk == ind_best_reco_HS_sumpt2)\n",
    "\n",
    "    \n",
    "    local_PU_density = Get_local_PU_density(truth_tree_arrays, i_event)\n",
    "    hs_reco_eff.Fill(trhth_HS_vtx_recoed, local_PU_density)\n",
    "    hs_sel_eff.Fill(trhth_HS_vtx_recoed and trhth_HS_vtx_seled, local_PU_density)\n",
    "    if trhth_HS_vtx_recoed:\n",
    "        hs_truth_long_reso_vs_PU.Fill(local_PU_density, residual_z)"
   ]
  },
  {
   "cell_type": "code",
   "execution_count": null,
   "id": "ee46c973-a094-4797-b9ab-7aed0d8c083d",
   "metadata": {},
   "outputs": [],
   "source": [
    "hs_truth_long_reso_vs_PU.Draw()\n",
    "canvas.Draw()"
   ]
  },
  {
   "cell_type": "code",
   "execution_count": 7,
   "id": "04dbd3c8-43ef-4f59-bb3b-603a2d6ca13a",
   "metadata": {},
   "outputs": [
    {
     "data": {
      "text/plain": [
       "626"
      ]
     },
     "execution_count": 7,
     "metadata": {},
     "output_type": "execute_result"
    }
   ],
   "source": [
    "outfile.cd()\n",
    "hs_truth_long_reso_vs_PU.Write()\n"
   ]
  },
  {
   "cell_type": "code",
   "execution_count": null,
   "id": "c10bc2df-3c68-4787-ab9d-27f9a876928c",
   "metadata": {},
   "outputs": [],
   "source": []
  },
  {
   "cell_type": "code",
   "execution_count": null,
   "id": "59f43b09-ddfb-4da0-8b73-8382fa6fa50c",
   "metadata": {},
   "outputs": [],
   "source": [
    "hs_sel_eff.Draw()\n",
    "canvas.Draw()"
   ]
  },
  {
   "cell_type": "markdown",
   "id": "48637daf",
   "metadata": {},
   "source": [
    "## Refitted "
   ]
  },
  {
   "cell_type": "code",
   "execution_count": 10,
   "id": "475dfd1f-bc53-4b14-8b1b-7b4cc83454f1",
   "metadata": {},
   "outputs": [
    {
     "name": "stdout",
     "output_type": "stream",
     "text": [
      "0 events processed.\n",
      "100 events processed.\n",
      "200 events processed.\n",
      "300 events processed.\n",
      "400 events processed.\n",
      "500 events processed.\n",
      "600 events processed.\n",
      "700 events processed.\n",
      "800 events processed.\n",
      "900 events processed.\n",
      "CPU times: user 1min 38s, sys: 302 ms, total: 1min 38s\n",
      "Wall time: 1min 38s\n"
     ]
    },
    {
     "name": "stderr",
     "output_type": "stream",
     "text": [
      "Warning in <TFile::Append>: Replacing existing TH1: hs_truth_long_reso_vs_PU_avg (Potential memory leak).\n"
     ]
    }
   ],
   "source": [
    "%%time\n",
    "canvas_avg = ROOT.TCanvas()\n",
    "hs_reco_eff_avg = ROOT.TEfficiency(\"hs_reco_eff\", \"HS Reconstruction Efficiency(avg); Local PU density; eff\", 12, 0, 6)\n",
    "hs_sel_eff_avg = ROOT.TEfficiency(\"hs_sel_eff\", \"HS selection and Reconstruction Efficiency(avg); Local PU density; eff\", 12, 0, 6)\n",
    "\n",
    "hs_truth_long_reso_vs_PU_avg = ROOT.TH2D(\"hs_truth_long_reso_vs_PU_avg\", \"HS Longitudinal Resolution vs PU density; Local PU density; [mm]\", 12, 0, 6.0, 20, -0.08, 0.08);\n",
    "\n",
    "whole_match_matrix_avg = []\n",
    "# In the future, whole_match_matrix will be used to classify \n",
    "\n",
    "# for i_event in range(len(reco_tree_arrays_avg[\"event_id\"])):\n",
    "for i_event in range(N_evts):\n",
    "    if i_event % 100 == 0:\n",
    "        print(f\"{i_event} events processed.\")\n",
    "    truth_vtx_vz = truth_tree_arrays[\"truth_vtx_vz\"][i_event]\n",
    "    reco_vtx_vz = reco_tree_arrays_avg[\"refitted_avg_vtx_vz\"][i_event]\n",
    "    match_matrix = np.zeros((len(reco_vtx_vz),len(truth_vtx_vz)))\n",
    "    # declare the truth-mathing matrix as a list, filled in the next 2 loops \n",
    "    # Can be normalized \n",
    "\n",
    "    for i in range(len(reco_vtx_vz)):\n",
    "        for j in range(len(truth_vtx_vz)):\n",
    "            test_truth = truth_tree_arrays[\"truth_vtx_fitted_trk_z0\"][i_event][truth_tree_arrays[\"truth_vtx_fitted_trk_vtxID\"][i_event] == j]\n",
    "            test_reco = reco_tree_arrays_avg[\"reco_vtx_fitted_trk_z0\"][i_event][reco_tree_arrays_avg[\"reco_vtx_fitted_trk_vtxID\"][i_event] == i]\n",
    "            match_matrix[i,j] = len(np.intersect1d(test_reco, test_truth))\n",
    "            \n",
    "    whole_match_matrix.append(match_matrix)\n",
    "    \n",
    "    \n",
    "    # Find the index of best reco HS via 2 ways \n",
    "    ind_best_reco_HS_nTrk = match_matrix[:,0].argmax()\n",
    "    ind_best_reco_HS_sumpt2 = Get_ind_best_reco_HS_sum_pt2(reco_tree_arrays_avg, i_event, \"avg\")\n",
    "    \n",
    "    # dist_best_reco_to_truth_HS_sq = (reco_tree_arrays_avg[\"refitted_avg_vtx_vx\"][i_event][ind_best_reco_HS_nTrk] - truth_tree_arrays[\"truth_vtx_vx\"][i_event][0])**2 + (reco_tree_arrays_avg[\"refitted_avg_vtx_vy\"][i_event][ind_best_reco_HS_nTrk] - truth_tree_arrays[\"truth_vtx_vy\"][i_event][0])**2 + (reco_tree_arrays_avg[\"refitted_avg_vtx_vz\"][i_event][ind_best_reco_HS_nTrk] - truth_tree_arrays[\"truth_vtx_vz\"][i_event][0])**2 \n",
    "    residual_z = reco_tree_arrays_avg[\"refitted_avg_vtx_vz\"][i_event][ind_best_reco_HS_nTrk] - truth_tree_arrays[\"truth_vtx_vz\"][i_event][0]\n",
    "    residual_x = reco_tree_arrays_avg[\"refitted_avg_vtx_vx\"][i_event][ind_best_reco_HS_nTrk] - truth_tree_arrays[\"truth_vtx_vx\"][i_event][0]\n",
    "    residual_y = reco_tree_arrays_avg[\"refitted_avg_vtx_vy\"][i_event][ind_best_reco_HS_nTrk] - truth_tree_arrays[\"truth_vtx_vy\"][i_event][0]\n",
    "    \n",
    "    dist_best_reco_to_truth_HS_sq =  residual_z**2 + residual_x**2 + residual_y**2\n",
    "    trhth_HS_vtx_recoed = False\n",
    "    if dist_best_reco_to_truth_HS_sq < (0.1 ** 2):\n",
    "        trhth_HS_vtx_recoed = True\n",
    "\n",
    "    trhth_HS_vtx_seled = (bool)(ind_best_reco_HS_nTrk == ind_best_reco_HS_sumpt2)\n",
    "\n",
    "    \n",
    "    local_PU_density = Get_local_PU_density(truth_tree_arrays, i_event)\n",
    "    hs_reco_eff_avg.Fill(trhth_HS_vtx_recoed, local_PU_density)\n",
    "    hs_sel_eff_avg.Fill(trhth_HS_vtx_recoed and trhth_HS_vtx_seled, local_PU_density)\n",
    "    if trhth_HS_vtx_recoed:\n",
    "        hs_truth_long_reso_vs_PU_avg.Fill(local_PU_density, residual_z)"
   ]
  },
  {
   "cell_type": "code",
   "execution_count": 11,
   "id": "86c6b5d6-d154-4533-a4be-42176a057675",
   "metadata": {},
   "outputs": [
    {
     "data": {
      "text/plain": [
       "625"
      ]
     },
     "execution_count": 11,
     "metadata": {},
     "output_type": "execute_result"
    }
   ],
   "source": [
    "outfile.cd()\n",
    "hs_truth_long_reso_vs_PU_avg.Write()"
   ]
  },
  {
   "cell_type": "code",
   "execution_count": null,
   "id": "32ada240-a8d7-4135-a34d-1c1b32667e2e",
   "metadata": {},
   "outputs": [],
   "source": [
    "hs_reco_eff_avg.Draw()\n",
    "canvas_avg.Draw()"
   ]
  },
  {
   "cell_type": "code",
   "execution_count": null,
   "id": "27e92719-bda2-46cc-b8ac-bf4db5435bf5",
   "metadata": {},
   "outputs": [],
   "source": [
    "hs_sel_eff_avg.Draw()\n",
    "canvas_avg.Draw()"
   ]
  },
  {
   "cell_type": "markdown",
   "id": "406f9fb9",
   "metadata": {},
   "source": [
    "### Refitted Weighted "
   ]
  },
  {
   "cell_type": "code",
   "execution_count": 12,
   "id": "6ed6e0fb-f2f7-4d36-9d77-e58bab1a9ff6",
   "metadata": {},
   "outputs": [
    {
     "name": "stdout",
     "output_type": "stream",
     "text": [
      "0 events processed.\n",
      "100 events processed.\n",
      "200 events processed.\n",
      "300 events processed.\n",
      "400 events processed.\n",
      "500 events processed.\n",
      "600 events processed.\n",
      "700 events processed.\n",
      "800 events processed.\n",
      "900 events processed.\n"
     ]
    }
   ],
   "source": [
    "canvas_weighted = ROOT.TCanvas()\n",
    "hs_reco_eff_weighted = ROOT.TEfficiency(\"hs_reco_eff\", \"HS Reconstruction Efficiency(avg); Local PU density; eff\", 12, 0, 6)\n",
    "hs_sel_eff_weighted = ROOT.TEfficiency(\"hs_sel_eff\", \"HS selection and Reconstruction Efficiency(avg); Local PU density; eff\", 12, 0, 6)\n",
    "hs_truth_long_reso_vs_PU_weighted = ROOT.TH2D(\"hs_truth_long_reso_vs_PU_weighted\", \"HS Longitudinal Resolution vs PU density; Local PU density; [mm]\", 12, 0, 6.0, 20, -0.08, 0.08);\n",
    "\n",
    "\n",
    "whole_match_matrix_weighted = []\n",
    "# In the future, whole_match_matrix will be used to classify \n",
    "\n",
    "# for i_event in range(len(reco_tree_arrays_weighted[\"event_id\"])):\n",
    "for i_event in range(N_evts):\n",
    "\n",
    "    if i_event % 100 == 0:\n",
    "        print(f\"{i_event} events processed.\")\n",
    "        \n",
    "    truth_vtx_vz = truth_tree_arrays[\"truth_vtx_vz\"][i_event]\n",
    "    reco_vtx_vz = reco_tree_arrays_weighted[\"refitted_weighted_vtx_vz\"][i_event]\n",
    "    match_matrix = np.zeros((len(reco_vtx_vz),len(truth_vtx_vz)))\n",
    "    # declare the truth-mathing matrix as a list, filled in the next 2 loops \n",
    "    # Can be normalized \n",
    "\n",
    "    for i in range(len(reco_vtx_vz)):\n",
    "        for j in range(len(truth_vtx_vz)):\n",
    "            test_truth = truth_tree_arrays[\"truth_vtx_fitted_trk_z0\"][i_event][truth_tree_arrays[\"truth_vtx_fitted_trk_vtxID\"][i_event] == j]\n",
    "            test_reco = reco_tree_arrays_weighted[\"reco_vtx_fitted_trk_z0\"][i_event][reco_tree_arrays_weighted[\"reco_vtx_fitted_trk_vtxID\"][i_event] == i]\n",
    "            match_matrix[i,j] = len(np.intersect1d(test_reco, test_truth))\n",
    "            \n",
    "    whole_match_matrix.append(match_matrix)\n",
    "    \n",
    "    \n",
    "    # Find the index of best reco HS via 2 ways \n",
    "    ind_best_reco_HS_nTrk = match_matrix[:,0].argmax()\n",
    "    ind_best_reco_HS_sumpt2 = Get_ind_best_reco_HS_sum_pt2(reco_tree_arrays_weighted, i_event, \"weighted\")\n",
    "    \n",
    "    # dist_best_reco_to_truth_HS_sq = (reco_tree_arrays_weighted[\"refitted_weighted_vtx_vx\"][i_event][ind_best_reco_HS_nTrk] - truth_tree_arrays[\"truth_vtx_vx\"][i_event][0])**2 + (reco_tree_arrays_weighted[\"refitted_weighted_vtx_vy\"][i_event][ind_best_reco_HS_nTrk] - truth_tree_arrays[\"truth_vtx_vy\"][i_event][0])**2 + (reco_tree_arrays_weighted[\"refitted_weighted_vtx_vz\"][i_event][ind_best_reco_HS_nTrk] - truth_tree_arrays[\"truth_vtx_vz\"][i_event][0])**2 \n",
    "    residual_z = reco_tree_arrays_weighted[\"refitted_weighted_vtx_vz\"][i_event][ind_best_reco_HS_nTrk] - truth_tree_arrays[\"truth_vtx_vz\"][i_event][0]\n",
    "    residual_x = reco_tree_arrays_weighted[\"refitted_weighted_vtx_vx\"][i_event][ind_best_reco_HS_nTrk] - truth_tree_arrays[\"truth_vtx_vx\"][i_event][0]\n",
    "    residual_y = reco_tree_arrays_weighted[\"refitted_weighted_vtx_vy\"][i_event][ind_best_reco_HS_nTrk] - truth_tree_arrays[\"truth_vtx_vy\"][i_event][0]\n",
    "    \n",
    "    trhth_HS_vtx_recoed = False\n",
    "    if dist_best_reco_to_truth_HS_sq < (0.1 ** 2):\n",
    "        trhth_HS_vtx_recoed = True\n",
    "\n",
    "    trhth_HS_vtx_seled = (bool)(ind_best_reco_HS_nTrk == ind_best_reco_HS_sumpt2)\n",
    "\n",
    "    \n",
    "    local_PU_density = Get_local_PU_density(truth_tree_arrays, i_event)\n",
    "    hs_reco_eff_weighted.Fill(trhth_HS_vtx_recoed, local_PU_density)\n",
    "    hs_sel_eff_weighted.Fill(trhth_HS_vtx_recoed and trhth_HS_vtx_seled, local_PU_density)\n",
    "    if trhth_HS_vtx_recoed:\n",
    "        hs_truth_long_reso_vs_PU_weighted.Fill(local_PU_density, residual_z)"
   ]
  },
  {
   "cell_type": "code",
   "execution_count": 13,
   "id": "999b0a5e-b5b8-4cb1-8888-c1f9f454565a",
   "metadata": {},
   "outputs": [
    {
     "data": {
      "text/plain": [
       "663"
      ]
     },
     "execution_count": 13,
     "metadata": {},
     "output_type": "execute_result"
    }
   ],
   "source": [
    "outfile.cd()\n",
    "hs_truth_long_reso_vs_PU_weighted.Write()"
   ]
  },
  {
   "cell_type": "code",
   "execution_count": null,
   "id": "051bb2d1-9ca5-4d50-9abc-21c77b361cdb",
   "metadata": {},
   "outputs": [],
   "source": [
    "len(reco_tree_arrays_weighted[\"event_id\"])"
   ]
  },
  {
   "cell_type": "code",
   "execution_count": null,
   "id": "f42be60b-9d73-4fa7-945c-48712592336b",
   "metadata": {},
   "outputs": [],
   "source": [
    "hs_reco_eff_weighted.Draw()\n",
    "canvas_weighted.Draw()"
   ]
  },
  {
   "cell_type": "code",
   "execution_count": null,
   "id": "71504bd7",
   "metadata": {},
   "outputs": [],
   "source": [
    "hs_sel_eff_weighted.Draw()\n",
    "canvas_weighted.Draw()"
   ]
  },
  {
   "cell_type": "code",
   "execution_count": 14,
   "id": "54358c34-add1-4da8-ab40-e69aee3a55f3",
   "metadata": {},
   "outputs": [],
   "source": [
    "outfile.Close()"
   ]
  },
  {
   "cell_type": "markdown",
   "id": "acba4035",
   "metadata": {},
   "source": [
    "## Compare reco & sel effi"
   ]
  },
  {
   "cell_type": "code",
   "execution_count": null,
   "id": "9ae5a7e3",
   "metadata": {},
   "outputs": [],
   "source": [
    "canvas_reco_eff = ROOT.TCanvas()\n",
    "legend_reco_eff = ROOT.TLegend(0.1,0.2,0.4,0.4)\n",
    "hs_reco_eff.Draw()\n",
    "\n",
    "hs_reco_eff_avg.SetLineColor(2)\n",
    "hs_reco_eff_avg.Draw(\"same\")\n",
    "\n",
    "hs_reco_eff_weighted.SetLineColor(4)\n",
    "hs_reco_eff_weighted.Draw(\"same\")\n",
    "\n",
    "legend_reco_eff.AddEntry(hs_reco_eff, \"Original Fit\")\n",
    "legend_reco_eff.AddEntry(hs_reco_eff_avg, \"Refit Avg\")\n",
    "legend_reco_eff.AddEntry(hs_reco_eff_weighted, \"Refit Weighted\")\n",
    "legend_reco_eff.Draw(\"same\")\n",
    "canvas_reco_eff.Draw()"
   ]
  },
  {
   "cell_type": "code",
   "execution_count": null,
   "id": "132b729c",
   "metadata": {},
   "outputs": [],
   "source": [
    "canvas_sel_eff = ROOT.TCanvas()\n",
    "legend_sel_eff = ROOT.TLegend(0.1,0.2,0.4,0.4)\n",
    "hs_sel_eff.Draw()\n",
    "\n",
    "hs_sel_eff_avg.SetLineColor(2)\n",
    "hs_sel_eff_avg.Draw(\"same\")\n",
    "\n",
    "hs_sel_eff_weighted.SetLineColor(4)\n",
    "hs_sel_eff_weighted.Draw(\"same\")\n",
    "\n",
    "legend_sel_eff.AddEntry(hs_sel_eff, \"Original Fit\")\n",
    "legend_sel_eff.AddEntry(hs_sel_eff_avg, \"Refit Avg\")\n",
    "legend_sel_eff.AddEntry(hs_sel_eff_weighted, \"Refit Weighted\")\n",
    "legend_sel_eff.Draw(\"same\")\n",
    "canvas_sel_eff.Draw()"
   ]
  },
  {
   "cell_type": "markdown",
   "id": "6f89c31d",
   "metadata": {},
   "source": [
    "## Merge probability"
   ]
  },
  {
   "cell_type": "code",
   "execution_count": null,
   "id": "1a6bf548",
   "metadata": {},
   "outputs": [],
   "source": [
    "whole_delta_z_reco = []\n",
    "for i_event in range(len(reco_tree_arrays[\"event_id\"])):\n",
    "    list_delta_z_reco = []\n",
    "    for i in range(len(reco_tree_arrays[\"reco_vtx_vz\"][i_event])-1):\n",
    "        list_delta_z_reco.append(np.diff(reco_tree_arrays[\"reco_vtx_vz\"][i_event][i:]).tolist())\n",
    "    whole_delta_z_reco.append(list_delta_z_reco)\n",
    "    "
   ]
  },
  {
   "cell_type": "code",
   "execution_count": null,
   "id": "a6b2452e",
   "metadata": {},
   "outputs": [],
   "source": [
    "canvas_delta_z = ROOT.TCanvas()\n",
    "TH1_delta_z = ROOT.TH1F(\"TH1_delta_z\", \"delta_z\", 52, -6.5, 6.5)\n",
    "for _, delta_z_reco_event in enumerate(whole_delta_z_reco):\n",
    "    for _, delta_z_reco in enumerate(delta_z_reco_event):\n",
    "        for i in delta_z_reco:\n",
    "            TH1_delta_z.Fill(i)"
   ]
  },
  {
   "cell_type": "code",
   "execution_count": null,
   "id": "6e6d651a",
   "metadata": {},
   "outputs": [],
   "source": [
    "TH1_delta_z.Scale(1/TH1_delta_z.Integral())\n",
    "TH1_delta_z.Draw()\n",
    "canvas_delta_z.Draw()"
   ]
  },
  {
   "cell_type": "code",
   "execution_count": null,
   "id": "48dcbe5d",
   "metadata": {},
   "outputs": [],
   "source": []
  }
 ],
 "metadata": {
  "kernelspec": {
   "display_name": "Python 3 (ipykernel)",
   "language": "python",
   "name": "python3"
  },
  "language_info": {
   "codemirror_mode": {
    "name": "ipython",
    "version": 3
   },
   "file_extension": ".py",
   "mimetype": "text/x-python",
   "name": "python",
   "nbconvert_exporter": "python",
   "pygments_lexer": "ipython3",
   "version": "3.10.2"
  }
 },
 "nbformat": 4,
 "nbformat_minor": 5
}
