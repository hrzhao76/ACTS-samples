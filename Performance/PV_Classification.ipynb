{
 "cells": [
  {
   "cell_type": "code",
   "execution_count": 1,
   "id": "4f3b01d1-790d-4883-b6f7-90e985cd2159",
   "metadata": {},
   "outputs": [],
   "source": [
    "import uproot\n",
    "import numpy as np\n",
    "import pandas as pd\n",
    "import awkward as ak\n",
    "import matplotlib.pyplot as plt"
   ]
  },
  {
   "cell_type": "code",
   "execution_count": null,
   "id": "21258e42-b4b4-4e38-a59e-a89684e1676d",
   "metadata": {},
   "outputs": [],
   "source": [
    "root_file = uproot.open('../samples/vertexperformance_AMVF_pu100.root')"
   ]
  },
  {
   "cell_type": "code",
   "execution_count": null,
   "id": "bd72cebc-2c1a-464a-a809-22a81369a825",
   "metadata": {},
   "outputs": [],
   "source": [
    "root_file.keys()"
   ]
  },
  {
   "cell_type": "code",
   "execution_count": null,
   "id": "400d6cd7-bcdd-4a86-bf80-b364d70fbff9",
   "metadata": {},
   "outputs": [],
   "source": [
    "reco_tree = root_file['Reco_Vertex']\n",
    "truth_tree = root_file['Truth_Vertex_PV_Selected']"
   ]
  },
  {
   "cell_type": "code",
   "execution_count": null,
   "id": "fa07f4dd-d50d-499e-ab90-ec58c5bb280f",
   "metadata": {},
   "outputs": [],
   "source": [
    "reco_array = reco_tree.arrays(library=\"np\")\n",
    "truth_array = truth_tree.arrays(library=\"np\")"
   ]
  },
  {
   "cell_type": "code",
   "execution_count": null,
   "id": "79ab0217-a358-47de-8b43-592d4d906528",
   "metadata": {},
   "outputs": [],
   "source": [
    "def GetTrkTruthMatchInfo(reco_trk, truth_trk):\n",
    "    return np.where(reco_trk.reshape(reco_trk.size, 1) == truth_trk)[1]"
   ]
  },
  {
   "cell_type": "code",
   "execution_count": null,
   "id": "d37ee8df-2061-41e4-9f06-a1c28d53e2bc",
   "metadata": {},
   "outputs": [],
   "source": [
    "trk_truth_idx = GetTrkTruthMatchInfo(reco_array['reco_vtx_fitted_trk_z0'][0], truth_array['truth_vtx_fitted_trk_z0'][0])"
   ]
  },
  {
   "cell_type": "code",
   "execution_count": null,
   "id": "a3e0be67-5c1f-4760-9096-87fb1c443ece",
   "metadata": {},
   "outputs": [],
   "source": [
    "trk_truth_vtx = truth_array['truth_vtx_fitted_trk_vtxID'][0][trk_truth_idx]"
   ]
  },
  {
   "cell_type": "code",
   "execution_count": null,
   "id": "3180631b-0a52-49f8-b58a-46ddf616749c",
   "metadata": {},
   "outputs": [],
   "source": [
    "reco_array['reco_vtx_fitted_trk_trackWeight'][0][np.where(trk_truth_vtx==0)].sum()"
   ]
  },
  {
   "cell_type": "code",
   "execution_count": null,
   "id": "776f7fc9-17a4-438e-8ff7-475145476819",
   "metadata": {},
   "outputs": [],
   "source": [
    "reco_array['reco_vtx_fitted_trk_trackWeight'][0].sum()"
   ]
  },
  {
   "cell_type": "code",
   "execution_count": null,
   "id": "3b28c84a-3ef9-4acf-9695-4f96457c4f58",
   "metadata": {},
   "outputs": [],
   "source": [
    "for reco_vtx_idx in range(reco_array['reco_vtx_fitted_trk_vtxID'][0].max()):\n",
    "    reco_vtx_trk_idx = np.where(reco_array['reco_vtx_fitted_trk_vtxID'][0] == reco_vtx_id)[0]\n",
    "    trk_truth_idx = GetTrkTruthMatchInfo(reco_array['reco_vtx_fitted_trk_z0'][0], truth_array['truth_vtx_fitted_trk_z0'][0])\n",
    "    trk_truth_vtx = truth_array['truth_vtx_fitted_trk_vtxID'][0][trk_truth_idx[reco_vtx_trk_idx_0]]"
   ]
  },
  {
   "cell_type": "code",
   "execution_count": null,
   "id": "48852e04-0be1-4cd1-a25b-6d78113720df",
   "metadata": {},
   "outputs": [],
   "source": [
    "len(reco_array['reco_vtx_fitted_trk_vtxID'])"
   ]
  },
  {
   "cell_type": "code",
   "execution_count": null,
   "id": "92b840c0-6ebe-46c2-8af2-b43fe05ffa4d",
   "metadata": {},
   "outputs": [],
   "source": [
    "# import warnings\n",
    "# warnings.filterwarnings(\"error\")\n",
    "\n",
    "vxMatchWeight = 0.7\n",
    "PV_Classification = np.zeros((4),int)\n",
    "\n",
    "N_Event = len(reco_array['reco_vtx_fitted_trk_vtxID'])\n",
    "# N_Event = 1\n",
    "for event_id in range(N_Event):\n",
    "    # event_id = 1134# event_id  debug use\n",
    "    if event_id % 1000 == 0:\n",
    "        print(f\"{event_id} events processed.\")\n",
    "        \n",
    "    trk_truth_idx = GetTrkTruthMatchInfo(reco_array['reco_vtx_fitted_trk_z0'][event_id], truth_array['truth_vtx_fitted_trk_z0'][event_id]) # get trk location in truth array \n",
    "    trk_truth_vtx = truth_array['truth_vtx_fitted_trk_vtxID'][event_id][trk_truth_idx]\n",
    "    trk_reco_vtx = reco_array['reco_vtx_fitted_trk_vtxID'][event_id]\n",
    "    trk_pt_sq = ((1./reco_array[\"reco_vtx_fitted_trk_qp\"][event_id])*np.sin(reco_array[\"reco_vtx_fitted_trk_theta\"][event_id]))**2\n",
    "\n",
    "    n_truth_vtx = np.max(trk_truth_vtx)\n",
    "    n_reco_vtx = np.max(trk_reco_vtx)\n",
    "\n",
    "    Raw_RecoVertexMatchInfo = np.zeros((n_reco_vtx+1,n_truth_vtx+1, 2), dtype=float)\n",
    "    for reco_vtx_id in range(n_reco_vtx+1):\n",
    "        for truth_vtx_id in range(n_truth_vtx+1):\n",
    "            matched_idx = np.intersect1d(np.where(trk_reco_vtx == reco_vtx_id)[0], np.where(trk_truth_vtx == truth_vtx_id)[0])\n",
    "\n",
    "            if not matched_idx.any():\n",
    "                continue \n",
    "\n",
    "            Raw_RecoVertexMatchInfo[reco_vtx_id, truth_vtx_id, 0]= reco_array['reco_vtx_fitted_trk_trackWeight'][event_id][matched_idx].sum()\n",
    "            Raw_RecoVertexMatchInfo[reco_vtx_id, truth_vtx_id, 1]= trk_pt_sq[matched_idx].sum()\n",
    "\n",
    "    RecoVertexMatchInfo = np.copy(Raw_RecoVertexMatchInfo)\n",
    "    # RecoVertexMatchInfo[:,:,0] = Raw_RecoVertexMatchInfo[:,:,0]/Raw_RecoVertexMatchInfo[:,:,0].sum(axis=0)\n",
    "    # try:\n",
    "    #     RecoVertexMatchInfo[:,:,0] = Raw_RecoVertexMatchInfo[:,:,0]/Raw_RecoVertexMatchInfo[:,:,0].sum(axis=1)[:,np.newaxis]\n",
    "    # except RuntimeWarning: \n",
    "    #     print(event_id)\n",
    "        \n",
    "    RecoVertexMatchInfo[:,:,0] = Raw_RecoVertexMatchInfo[:,:,0]/Raw_RecoVertexMatchInfo[:,:,0].sum(axis=1)[:,np.newaxis]\n",
    "        \n",
    "    assigned_type = np.array([-1]*(n_reco_vtx+1))\n",
    "    for reco_vtx_id in range(n_reco_vtx+1):      \n",
    "        if np.isnan(RecoVertexMatchInfo[:,:,0][reco_vtx_id]).all():\n",
    "            assigned_type[reco_vtx_id] = 3 # labelled as fake \n",
    "            continue\n",
    "            \n",
    "        max_weight_idx = np.argmax(RecoVertexMatchInfo[:,:,0][reco_vtx_id])\n",
    "        if RecoVertexMatchInfo[:,:,0][reco_vtx_id][max_weight_idx] > vxMatchWeight and RecoVertexMatchInfo[:,:,1][reco_vtx_id][max_weight_idx] == RecoVertexMatchInfo[:,:,1][:,max_weight_idx].max():\n",
    "            assigned_type[reco_vtx_id] = 0 # labelled as matched/clean \n",
    "            # keep highest sumpt2 vertex labelled as matched/merged \n",
    "        elif RecoVertexMatchInfo[:,:,0][reco_vtx_id][max_weight_idx] < vxMatchWeight and RecoVertexMatchInfo[:,:,1][reco_vtx_id][max_weight_idx] == RecoVertexMatchInfo[:,:,1][:,max_weight_idx].max():\n",
    "            assigned_type[reco_vtx_id] = 1 # labelled as merged\n",
    "        else: \n",
    "            assigned_type[reco_vtx_id] = 2 # labelled as spilt \n",
    "            \n",
    "            \n",
    "    stat = np.bincount(assigned_type)\n",
    "    for PV_type in range(len(stat)):\n",
    "        PV_Classification[PV_type] += stat[PV_type]"
   ]
  },
  {
   "cell_type": "code",
   "execution_count": 11,
   "id": "8b8a94e2-080a-4faf-a42d-1103c4cf8acc",
   "metadata": {},
   "outputs": [
    {
     "data": {
      "text/plain": [
       "array([296829,  94206,  88536,  61504])"
      ]
     },
     "execution_count": 11,
     "metadata": {},
     "output_type": "execute_result"
    }
   ],
   "source": [
    "PV_Classification_pu100"
   ]
  },
  {
   "cell_type": "code",
   "execution_count": null,
   "id": "53d87620-258d-4d3b-b76a-c27fe33d0641",
   "metadata": {},
   "outputs": [],
   "source": [
    "np.save(\"PV_Classification_pu100\",PV_Classification)"
   ]
  },
  {
   "cell_type": "code",
   "execution_count": 5,
   "id": "6199e3ad-c7d9-40f9-b1dd-865101b26e41",
   "metadata": {},
   "outputs": [],
   "source": [
    "PV_Classification_pu100 = np.load(\"PV_Classification_pu100.npy\")"
   ]
  },
  {
   "cell_type": "code",
   "execution_count": 13,
   "id": "436b97a1-94d0-4d7c-bc1e-fce865b991e5",
   "metadata": {},
   "outputs": [
    {
     "data": {
      "text/plain": [
       "array([0.54859123, 0.17410895, 0.16362981, 0.11367001])"
      ]
     },
     "execution_count": 13,
     "metadata": {},
     "output_type": "execute_result"
    }
   ],
   "source": [
    "PV_Classification_pu100/PV_Classification_pu100.sum()"
   ]
  },
  {
   "cell_type": "code",
   "execution_count": 15,
   "id": "7a58053c-7eb9-4b32-8068-43e91e04d09d",
   "metadata": {},
   "outputs": [
    {
     "data": {
      "text/plain": [
       "array([29.6829,  9.4206,  8.8536,  6.1504])"
      ]
     },
     "execution_count": 15,
     "metadata": {},
     "output_type": "execute_result"
    }
   ],
   "source": [
    "PV_Classification_pu100/10000"
   ]
  },
  {
   "cell_type": "code",
   "execution_count": 8,
   "id": "f33a2f63-ad3d-448a-93ae-5d946a651ebf",
   "metadata": {},
   "outputs": [
    {
     "data": {
      "image/png": "[encoded data removed]",
      "text/plain": [
       "<Figure size 432x288 with 1 Axes>"
      ]
     },
     "metadata": {
      "needs_background": "light"
     },
     "output_type": "display_data"
    }
   ],
   "source": [
    "plt.plot(PV_Classification_pu100, 'bo')\n",
    "plt.ylabel('number of vertices')\n",
    "plt.show()"
   ]
  },
  {
   "cell_type": "code",
   "execution_count": 9,
   "id": "b48551ab-7212-4ebc-a80c-d5d4cc1b428b",
   "metadata": {},
   "outputs": [
    {
     "data": {
      "image/png": "[encoded data removed]",
      "text/plain": [
       "<Figure size 432x288 with 1 Axes>"
      ]
     },
     "metadata": {
      "needs_background": "light"
     },
     "output_type": "display_data"
    }
   ],
   "source": [
    "plt.plot(PV_Classification_pu100, 'bo')\n",
    "plt.ylabel('number of vertices')\n",
    "plt.yscale('log')\n",
    "plt.show()\n"
   ]
  }
 ],
 "metadata": {
  "kernelspec": {
   "display_name": "Python [conda env:.conda-py37] *",
   "language": "python",
   "name": "conda-env-.conda-py37-py"
  },
  "language_info": {
   "codemirror_mode": {
    "name": "ipython",
    "version": 3
   },
   "file_extension": ".py",
   "mimetype": "text/x-python",
   "name": "python",
   "nbconvert_exporter": "python",
   "pygments_lexer": "ipython3",
   "version": "3.7.8"
  }
 },
 "nbformat": 4,
 "nbformat_minor": 5
}
