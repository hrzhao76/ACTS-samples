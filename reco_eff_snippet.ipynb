{
 "cells": [
  {
   "cell_type": "code",
   "execution_count": 1,
   "id": "6c96c728",
   "metadata": {},
   "outputs": [],
   "source": [
    "import numpy as np"
   ]
  },
  {
   "cell_type": "code",
   "execution_count": 2,
   "id": "cc1bc31d",
   "metadata": {},
   "outputs": [],
   "source": [
    "tracks = np.arange(100)\n",
    "np.random.seed(0)\n",
    "# np.random.shuffle(tracks)\n",
    "shuffled_indices = np.random.permutation(len(tracks))\n"
   ]
  },
  {
   "cell_type": "code",
   "execution_count": 3,
   "id": "49f7fe42",
   "metadata": {},
   "outputs": [],
   "source": [
    "truth_vtx = np.split(tracks, [18, 41, 77, 86, 92])"
   ]
  },
  {
   "cell_type": "code",
   "execution_count": 9,
   "id": "f49da84f",
   "metadata": {},
   "outputs": [],
   "source": [
    "reco_vtx = np.split(tracks[shuffled_indices], [18, 41, 77, 86, 92])"
   ]
  },
  {
   "cell_type": "code",
   "execution_count": 10,
   "id": "202efac8",
   "metadata": {},
   "outputs": [],
   "source": [
    "match_matrix = np.zeros((len(reco_vtx),len(truth_vtx)))"
   ]
  },
  {
   "cell_type": "code",
   "execution_count": 11,
   "id": "133a56ff",
   "metadata": {},
   "outputs": [
    {
     "data": {
      "text/plain": [
       "array([[0., 0., 0., 0., 0., 0.],\n",
       "       [0., 0., 0., 0., 0., 0.],\n",
       "       [0., 0., 0., 0., 0., 0.],\n",
       "       [0., 0., 0., 0., 0., 0.],\n",
       "       [0., 0., 0., 0., 0., 0.],\n",
       "       [0., 0., 0., 0., 0., 0.]])"
      ]
     },
     "execution_count": 11,
     "metadata": {},
     "output_type": "execute_result"
    }
   ],
   "source": [
    "match_matrix"
   ]
  },
  {
   "cell_type": "code",
   "execution_count": 12,
   "id": "36a52aa4",
   "metadata": {},
   "outputs": [],
   "source": [
    "for i in range(len(reco_vtx)):\n",
    "    for j in range(len(truth_vtx)):\n",
    "        match_matrix[i,j] = len(np.intersect1d(reco_vtx[i], truth_vtx[j]))"
   ]
  },
  {
   "cell_type": "code",
   "execution_count": 13,
   "id": "7025d8d7",
   "metadata": {},
   "outputs": [
    {
     "data": {
      "text/plain": [
       "array([[ 4.,  4.,  5.,  1.,  1.,  3.],\n",
       "       [ 4.,  3., 12.,  2.,  1.,  1.],\n",
       "       [ 8., 11., 10.,  3.,  2.,  2.],\n",
       "       [ 0.,  3.,  3.,  2.,  0.,  1.],\n",
       "       [ 1.,  1.,  2.,  0.,  2.,  0.],\n",
       "       [ 1.,  1.,  4.,  1.,  0.,  1.]])"
      ]
     },
     "execution_count": 13,
     "metadata": {},
     "output_type": "execute_result"
    }
   ],
   "source": [
    "match_matrix"
   ]
  },
  {
   "cell_type": "code",
   "execution_count": 15,
   "id": "332b195b",
   "metadata": {},
   "outputs": [
    {
     "data": {
      "text/plain": [
       "array([2, 2, 1, 1, 2, 2])"
      ]
     },
     "execution_count": 15,
     "metadata": {},
     "output_type": "execute_result"
    }
   ],
   "source": [
    "# the truth represetative of reco vtx\n",
    "truth_rep = match_matrix.argmax(axis = 1)\n"
   ]
  }
 ],
 "metadata": {
  "kernelspec": {
   "display_name": "Python 3 (ipykernel)",
   "language": "python",
   "name": "python3"
  },
  "language_info": {
   "codemirror_mode": {
    "name": "ipython",
    "version": 3
   },
   "file_extension": ".py",
   "mimetype": "text/x-python",
   "name": "python",
   "nbconvert_exporter": "python",
   "pygments_lexer": "ipython3",
   "version": "3.9.6"
  }
 },
 "nbformat": 4,
 "nbformat_minor": 5
}
